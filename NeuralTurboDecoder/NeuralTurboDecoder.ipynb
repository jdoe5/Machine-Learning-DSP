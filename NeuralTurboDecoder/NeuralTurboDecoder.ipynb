{
 "cells": [
  {
   "cell_type": "markdown",
   "id": "780c5979",
   "metadata": {},
   "source": [
    "# Neural Network Turbo Decoder\n",
    "\n",
    "Julien Doe"
   ]
  },
  {
   "cell_type": "markdown",
   "id": "1431c70a",
   "metadata": {},
   "source": []
  }
 ],
 "metadata": {
  "language_info": {
   "name": "python"
  }
 },
 "nbformat": 4,
 "nbformat_minor": 5
}
