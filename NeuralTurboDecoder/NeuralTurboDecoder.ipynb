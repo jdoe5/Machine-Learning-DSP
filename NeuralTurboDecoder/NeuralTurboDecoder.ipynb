{
 "cells": [
  {
   "cell_type": "markdown",
   "id": "780c5979",
   "metadata": {},
   "source": [
    "# Neural Network Turbo Decoder\n",
    "\n",
    "Julien Doe"
   ]
  },
  {
   "cell_type": "markdown",
   "id": "1431c70a",
   "metadata": {},
   "source": []
  },
  {
   "cell_type": "markdown",
   "id": "32557622",
   "metadata": {
    "vscode": {
     "languageId": "plaintext"
    }
   },
   "source": [
    "## Turbo Encoder"
   ]
  },
  {
   "cell_type": "markdown",
   "id": "a7b3c9ed",
   "metadata": {},
   "source": []
  }
 ],
 "metadata": {
  "language_info": {
   "name": "python"
  }
 },
 "nbformat": 4,
 "nbformat_minor": 5
}
