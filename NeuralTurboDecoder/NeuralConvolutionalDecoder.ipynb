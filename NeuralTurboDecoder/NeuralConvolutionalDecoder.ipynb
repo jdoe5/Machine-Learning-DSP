{
 "cells": [
  {
   "cell_type": "markdown",
   "id": "1b0abc14",
   "metadata": {},
   "source": [
    "# Neural Network Turbo Decoder\n",
    "\n",
    "Julien Doe"
   ]
  },
  {
   "cell_type": "code",
   "execution_count": null,
   "id": "aae83cf7",
   "metadata": {},
   "outputs": [],
   "source": []
  }
 ],
 "metadata": {
  "kernelspec": {
   "display_name": "base",
   "language": "python",
   "name": "python3"
  },
  "language_info": {
   "name": "python",
   "version": "3.12.8"
  }
 },
 "nbformat": 4,
 "nbformat_minor": 5
}
